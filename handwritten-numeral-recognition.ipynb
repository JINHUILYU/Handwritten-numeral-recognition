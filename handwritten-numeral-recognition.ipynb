{
 "cells": [
  {
   "cell_type": "code",
   "execution_count": 1,
   "id": "2ee08fe3",
   "metadata": {
    "_cell_guid": "b1076dfc-b9ad-4769-8c92-a6c4dae69d19",
    "_uuid": "8f2839f25d086af736a60e9eeb907d3b93b6e0e5",
    "execution": {
     "iopub.execute_input": "2024-12-05T12:23:01.174969Z",
     "iopub.status.busy": "2024-12-05T12:23:01.174715Z",
     "iopub.status.idle": "2024-12-05T12:23:02.422109Z",
     "shell.execute_reply": "2024-12-05T12:23:02.421118Z"
    },
    "papermill": {
     "duration": 1.254693,
     "end_time": "2024-12-05T12:23:02.424003",
     "exception": false,
     "start_time": "2024-12-05T12:23:01.169310",
     "status": "completed"
    },
    "tags": []
   },
   "outputs": [
    {
     "name": "stdout",
     "output_type": "stream",
     "text": [
      "/kaggle/input/digits/sample_submission.csv\n",
      "/kaggle/input/digits/9.png\n",
      "/kaggle/input/digits/3.png\n",
      "/kaggle/input/digits/8.png\n",
      "/kaggle/input/digits/train.csv\n",
      "/kaggle/input/digits/test.csv\n",
      "/kaggle/input/digits/0.png\n"
     ]
    }
   ],
   "source": [
    "# This Python 3 environment comes with many helpful analytics libraries installed\n",
    "# It is defined by the kaggle/python Docker image: https://github.com/kaggle/docker-python\n",
    "# For example, here's several helpful packages to load\n",
    "\n",
    "import numpy as np # linear algebra\n",
    "import pandas as pd # data processing, CSV file I/O (e.g. pd.read_csv)\n",
    "\n",
    "# Input data files are available in the read-only \"../input/\" directory\n",
    "# For example, running this (by clicking run or pressing Shift+Enter) will list all files under the input directory\n",
    "\n",
    "import os\n",
    "for dirname, _, filenames in os.walk('/kaggle/input'):\n",
    "    for filename in filenames:\n",
    "        print(os.path.join(dirname, filename))\n",
    "\n",
    "# You can write up to 20GB to the current directory (/kaggle/working/) that gets preserved as output when you create a version using \"Save & Run All\" \n",
    "# You can also write temporary files to /kaggle/temp/, but they won't be saved outside of the current session"
   ]
  },
  {
   "cell_type": "markdown",
   "id": "fd7ce67b",
   "metadata": {
    "papermill": {
     "duration": 0.004811,
     "end_time": "2024-12-05T12:23:02.433082",
     "exception": false,
     "start_time": "2024-12-05T12:23:02.428271",
     "status": "completed"
    },
    "tags": []
   },
   "source": [
    "# Handwritten numeral recognition"
   ]
  },
  {
   "cell_type": "markdown",
   "id": "f2c8e15e",
   "metadata": {
    "papermill": {
     "duration": 0.003614,
     "end_time": "2024-12-05T12:23:02.440496",
     "exception": false,
     "start_time": "2024-12-05T12:23:02.436882",
     "status": "completed"
    },
    "tags": []
   },
   "source": [
    "## Train"
   ]
  },
  {
   "cell_type": "code",
   "execution_count": 2,
   "id": "c3fda14c",
   "metadata": {
    "execution": {
     "iopub.execute_input": "2024-12-05T12:23:02.449070Z",
     "iopub.status.busy": "2024-12-05T12:23:02.448719Z",
     "iopub.status.idle": "2024-12-05T12:23:10.504517Z",
     "shell.execute_reply": "2024-12-05T12:23:10.503793Z"
    },
    "papermill": {
     "duration": 8.062469,
     "end_time": "2024-12-05T12:23:10.506674",
     "exception": false,
     "start_time": "2024-12-05T12:23:02.444205",
     "status": "completed"
    },
    "tags": []
   },
   "outputs": [],
   "source": [
    "import torch\n",
    "import torch.nn as nn\n",
    "import torch.optim as optim\n",
    "import torchvision\n",
    "import torchvision.transforms as transforms\n",
    "from torch.utils.data import DataLoader"
   ]
  },
  {
   "cell_type": "code",
   "execution_count": 3,
   "id": "9d55703e",
   "metadata": {
    "execution": {
     "iopub.execute_input": "2024-12-05T12:23:10.517125Z",
     "iopub.status.busy": "2024-12-05T12:23:10.516473Z",
     "iopub.status.idle": "2024-12-05T12:23:10.600262Z",
     "shell.execute_reply": "2024-12-05T12:23:10.599478Z"
    },
    "papermill": {
     "duration": 0.090804,
     "end_time": "2024-12-05T12:23:10.601929",
     "exception": false,
     "start_time": "2024-12-05T12:23:10.511125",
     "status": "completed"
    },
    "tags": []
   },
   "outputs": [],
   "source": [
    "# 设置设备\n",
    "device = torch.device(\"cuda\" if torch.cuda.is_available() else \"cpu\")"
   ]
  },
  {
   "cell_type": "code",
   "execution_count": 4,
   "id": "e9c1b505",
   "metadata": {
    "execution": {
     "iopub.execute_input": "2024-12-05T12:23:10.611345Z",
     "iopub.status.busy": "2024-12-05T12:23:10.610592Z",
     "iopub.status.idle": "2024-12-05T12:23:10.614697Z",
     "shell.execute_reply": "2024-12-05T12:23:10.613955Z"
    },
    "papermill": {
     "duration": 0.010246,
     "end_time": "2024-12-05T12:23:10.616206",
     "exception": false,
     "start_time": "2024-12-05T12:23:10.605960",
     "status": "completed"
    },
    "tags": []
   },
   "outputs": [],
   "source": [
    "# 1. 加载 MNIST 数据集\n",
    "transform = transforms.Compose([\n",
    "    transforms.ToTensor(),  # 转换为张量\n",
    "    transforms.Normalize((0.5,), (0.5,))  # 数据归一化到 [-1, 1]\n",
    "])"
   ]
  },
  {
   "cell_type": "code",
   "execution_count": 5,
   "id": "b22f902a",
   "metadata": {
    "execution": {
     "iopub.execute_input": "2024-12-05T12:23:10.624894Z",
     "iopub.status.busy": "2024-12-05T12:23:10.624681Z",
     "iopub.status.idle": "2024-12-05T12:23:10.628998Z",
     "shell.execute_reply": "2024-12-05T12:23:10.628294Z"
    },
    "papermill": {
     "duration": 0.01053,
     "end_time": "2024-12-05T12:23:10.630587",
     "exception": false,
     "start_time": "2024-12-05T12:23:10.620057",
     "status": "completed"
    },
    "tags": []
   },
   "outputs": [],
   "source": [
    "# 改进的数据增强\n",
    "transform = transforms.Compose([\n",
    "    transforms.RandomRotation(20),\n",
    "    transforms.RandomAffine(0, translate=(0.2, 0.2)),\n",
    "    transforms.RandomPerspective(distortion_scale=0.2, p=0.5),\n",
    "    transforms.ToTensor(),\n",
    "    transforms.Normalize((0.5,), (0.5,))\n",
    "])"
   ]
  },
  {
   "cell_type": "code",
   "execution_count": 6,
   "id": "22591526",
   "metadata": {
    "execution": {
     "iopub.execute_input": "2024-12-05T12:23:10.639169Z",
     "iopub.status.busy": "2024-12-05T12:23:10.638957Z",
     "iopub.status.idle": "2024-12-05T12:23:13.677462Z",
     "shell.execute_reply": "2024-12-05T12:23:13.676358Z"
    },
    "papermill": {
     "duration": 3.045316,
     "end_time": "2024-12-05T12:23:13.679692",
     "exception": false,
     "start_time": "2024-12-05T12:23:10.634376",
     "status": "completed"
    },
    "tags": []
   },
   "outputs": [
    {
     "name": "stdout",
     "output_type": "stream",
     "text": [
      "Downloading http://yann.lecun.com/exdb/mnist/train-images-idx3-ubyte.gz\n",
      "Failed to download (trying next):\n",
      "HTTP Error 403: Forbidden\n",
      "\n",
      "Downloading https://ossci-datasets.s3.amazonaws.com/mnist/train-images-idx3-ubyte.gz\n",
      "Downloading https://ossci-datasets.s3.amazonaws.com/mnist/train-images-idx3-ubyte.gz to ./data/MNIST/raw/train-images-idx3-ubyte.gz\n"
     ]
    },
    {
     "name": "stderr",
     "output_type": "stream",
     "text": [
      "100%|██████████| 9912422/9912422 [00:00<00:00, 42278592.85it/s]\n"
     ]
    },
    {
     "name": "stdout",
     "output_type": "stream",
     "text": [
      "Extracting ./data/MNIST/raw/train-images-idx3-ubyte.gz to ./data/MNIST/raw\n",
      "\n",
      "Downloading http://yann.lecun.com/exdb/mnist/train-labels-idx1-ubyte.gz\n",
      "Failed to download (trying next):\n",
      "HTTP Error 403: Forbidden\n",
      "\n",
      "Downloading https://ossci-datasets.s3.amazonaws.com/mnist/train-labels-idx1-ubyte.gz\n",
      "Downloading https://ossci-datasets.s3.amazonaws.com/mnist/train-labels-idx1-ubyte.gz to ./data/MNIST/raw/train-labels-idx1-ubyte.gz\n"
     ]
    },
    {
     "name": "stderr",
     "output_type": "stream",
     "text": [
      "100%|██████████| 28881/28881 [00:00<00:00, 1127777.36it/s]\n"
     ]
    },
    {
     "name": "stdout",
     "output_type": "stream",
     "text": [
      "Extracting ./data/MNIST/raw/train-labels-idx1-ubyte.gz to ./data/MNIST/raw\n",
      "\n",
      "Downloading http://yann.lecun.com/exdb/mnist/t10k-images-idx3-ubyte.gz\n",
      "Failed to download (trying next):\n",
      "HTTP Error 403: Forbidden\n",
      "\n",
      "Downloading https://ossci-datasets.s3.amazonaws.com/mnist/t10k-images-idx3-ubyte.gz\n",
      "Downloading https://ossci-datasets.s3.amazonaws.com/mnist/t10k-images-idx3-ubyte.gz to ./data/MNIST/raw/t10k-images-idx3-ubyte.gz\n"
     ]
    },
    {
     "name": "stderr",
     "output_type": "stream",
     "text": [
      "100%|██████████| 1648877/1648877 [00:00<00:00, 9040085.48it/s]\n"
     ]
    },
    {
     "name": "stdout",
     "output_type": "stream",
     "text": [
      "Extracting ./data/MNIST/raw/t10k-images-idx3-ubyte.gz to ./data/MNIST/raw\n",
      "\n",
      "Downloading http://yann.lecun.com/exdb/mnist/t10k-labels-idx1-ubyte.gz\n",
      "Failed to download (trying next):\n",
      "HTTP Error 403: Forbidden\n",
      "\n",
      "Downloading https://ossci-datasets.s3.amazonaws.com/mnist/t10k-labels-idx1-ubyte.gz\n",
      "Downloading https://ossci-datasets.s3.amazonaws.com/mnist/t10k-labels-idx1-ubyte.gz to ./data/MNIST/raw/t10k-labels-idx1-ubyte.gz\n"
     ]
    },
    {
     "name": "stderr",
     "output_type": "stream",
     "text": [
      "100%|██████████| 4542/4542 [00:00<00:00, 3967207.16it/s]"
     ]
    },
    {
     "name": "stdout",
     "output_type": "stream",
     "text": [
      "Extracting ./data/MNIST/raw/t10k-labels-idx1-ubyte.gz to ./data/MNIST/raw\n",
      "\n"
     ]
    },
    {
     "name": "stderr",
     "output_type": "stream",
     "text": [
      "\n"
     ]
    }
   ],
   "source": [
    "train_dataset = torchvision.datasets.MNIST(root='./data', train=True, download=True, transform=transform)\n",
    "test_dataset = torchvision.datasets.MNIST(root='./data', train=False, download=True, transform=transform)"
   ]
  },
  {
   "cell_type": "code",
   "execution_count": 7,
   "id": "606eec9d",
   "metadata": {
    "execution": {
     "iopub.execute_input": "2024-12-05T12:23:13.691036Z",
     "iopub.status.busy": "2024-12-05T12:23:13.690732Z",
     "iopub.status.idle": "2024-12-05T12:23:13.695465Z",
     "shell.execute_reply": "2024-12-05T12:23:13.694628Z"
    },
    "papermill": {
     "duration": 0.012432,
     "end_time": "2024-12-05T12:23:13.697236",
     "exception": false,
     "start_time": "2024-12-05T12:23:13.684804",
     "status": "completed"
    },
    "tags": []
   },
   "outputs": [],
   "source": [
    "train_loader = DataLoader(train_dataset, batch_size=64, shuffle=True)\n",
    "test_loader = DataLoader(test_dataset, batch_size=64, shuffle=False)"
   ]
  },
  {
   "cell_type": "code",
   "execution_count": 8,
   "id": "a76402cf",
   "metadata": {
    "execution": {
     "iopub.execute_input": "2024-12-05T12:23:13.712029Z",
     "iopub.status.busy": "2024-12-05T12:23:13.711766Z",
     "iopub.status.idle": "2024-12-05T12:23:13.718603Z",
     "shell.execute_reply": "2024-12-05T12:23:13.717801Z"
    },
    "papermill": {
     "duration": 0.016234,
     "end_time": "2024-12-05T12:23:13.720334",
     "exception": false,
     "start_time": "2024-12-05T12:23:13.704100",
     "status": "completed"
    },
    "tags": []
   },
   "outputs": [],
   "source": [
    "# 2. 定义 CNN 模型\n",
    "class CNN(nn.Module):\n",
    "    def __init__(self):\n",
    "        super(CNN, self).__init__()\n",
    "        self.conv1 = nn.Conv2d(1, 32, kernel_size=3, stride=1, padding=1)\n",
    "        self.conv2 = nn.Conv2d(32, 64, kernel_size=3, stride=1, padding=1)\n",
    "        self.conv3 = nn.Conv2d(64, 128, kernel_size=3, stride=1, padding=1)\n",
    "        self.pool = nn.MaxPool2d(kernel_size=2, stride=2)\n",
    "        self.fc1 = nn.Linear(128 * 3 * 3, 256)\n",
    "        self.fc2 = nn.Linear(256, 10)\n",
    "        self.dropout = nn.Dropout(0.5)\n",
    "\n",
    "    def forward(self, x):\n",
    "        x = self.pool(torch.relu(self.conv1(x)))\n",
    "        x = self.pool(torch.relu(self.conv2(x)))\n",
    "        x = self.pool(torch.relu(self.conv3(x)))\n",
    "        x = x.view(-1, 128 * 3 * 3)\n",
    "        x = torch.relu(self.fc1(x))\n",
    "        x = self.dropout(x)\n",
    "        x = self.fc2(x)\n",
    "        return x"
   ]
  },
  {
   "cell_type": "code",
   "execution_count": 9,
   "id": "2636a620",
   "metadata": {
    "execution": {
     "iopub.execute_input": "2024-12-05T12:23:13.735057Z",
     "iopub.status.busy": "2024-12-05T12:23:13.734762Z",
     "iopub.status.idle": "2024-12-05T12:23:13.966997Z",
     "shell.execute_reply": "2024-12-05T12:23:13.966266Z"
    },
    "papermill": {
     "duration": 0.241633,
     "end_time": "2024-12-05T12:23:13.968882",
     "exception": false,
     "start_time": "2024-12-05T12:23:13.727249",
     "status": "completed"
    },
    "tags": []
   },
   "outputs": [],
   "source": [
    "model = CNN().to(device)"
   ]
  },
  {
   "cell_type": "code",
   "execution_count": 10,
   "id": "5a7bc033",
   "metadata": {
    "execution": {
     "iopub.execute_input": "2024-12-05T12:23:13.980099Z",
     "iopub.status.busy": "2024-12-05T12:23:13.979833Z",
     "iopub.status.idle": "2024-12-05T12:23:13.983789Z",
     "shell.execute_reply": "2024-12-05T12:23:13.983060Z"
    },
    "papermill": {
     "duration": 0.011279,
     "end_time": "2024-12-05T12:23:13.985345",
     "exception": false,
     "start_time": "2024-12-05T12:23:13.974066",
     "status": "completed"
    },
    "tags": []
   },
   "outputs": [],
   "source": [
    "# 3. 定义损失函数和优化器\n",
    "criterion = nn.CrossEntropyLoss()\n",
    "optimizer = optim.Adam(model.parameters(), lr=0.001)"
   ]
  },
  {
   "cell_type": "code",
   "execution_count": 11,
   "id": "808ab569",
   "metadata": {
    "execution": {
     "iopub.execute_input": "2024-12-05T12:23:13.996069Z",
     "iopub.status.busy": "2024-12-05T12:23:13.995828Z",
     "iopub.status.idle": "2024-12-05T12:26:31.016600Z",
     "shell.execute_reply": "2024-12-05T12:26:31.015688Z"
    },
    "papermill": {
     "duration": 197.033653,
     "end_time": "2024-12-05T12:26:31.023922",
     "exception": false,
     "start_time": "2024-12-05T12:23:13.990269",
     "status": "completed"
    },
    "tags": []
   },
   "outputs": [
    {
     "name": "stdout",
     "output_type": "stream",
     "text": [
      "Epoch [1/5], Loss: 0.5494\n",
      "Epoch [2/5], Loss: 0.1774\n",
      "Epoch [3/5], Loss: 0.1265\n",
      "Epoch [4/5], Loss: 0.1132\n",
      "Epoch [5/5], Loss: 0.0948\n"
     ]
    }
   ],
   "source": [
    "# 4. 训练模型\n",
    "num_epochs = 5\n",
    "for epoch in range(num_epochs):\n",
    "    model.train()  # 设置为训练模式\n",
    "    running_loss = 0.0\n",
    "    for images, labels in train_loader:\n",
    "        images, labels = images.to(device), labels.to(device)\n",
    "        \n",
    "        # 前向传播\n",
    "        outputs = model(images)\n",
    "        loss = criterion(outputs, labels)\n",
    "        \n",
    "        # 反向传播与优化\n",
    "        optimizer.zero_grad()\n",
    "        loss.backward()\n",
    "        optimizer.step()\n",
    "        \n",
    "        running_loss += loss.item()\n",
    "    print(f\"Epoch [{epoch+1}/{num_epochs}], Loss: {running_loss/len(train_loader):.4f}\")"
   ]
  },
  {
   "cell_type": "code",
   "execution_count": 12,
   "id": "6801dd71",
   "metadata": {
    "execution": {
     "iopub.execute_input": "2024-12-05T12:26:31.035358Z",
     "iopub.status.busy": "2024-12-05T12:26:31.035071Z",
     "iopub.status.idle": "2024-12-05T12:26:37.261152Z",
     "shell.execute_reply": "2024-12-05T12:26:37.260266Z"
    },
    "papermill": {
     "duration": 6.233992,
     "end_time": "2024-12-05T12:26:37.263089",
     "exception": false,
     "start_time": "2024-12-05T12:26:31.029097",
     "status": "completed"
    },
    "tags": []
   },
   "outputs": [
    {
     "name": "stdout",
     "output_type": "stream",
     "text": [
      "Accuracy on test set: 97.92%\n"
     ]
    }
   ],
   "source": [
    "# 5. 测试模型\n",
    "model.eval()  # 设置为评估模式\n",
    "correct = 0\n",
    "total = 0\n",
    "with torch.no_grad():  # 禁用梯度计算\n",
    "    for images, labels in test_loader:\n",
    "        images, labels = images.to(device), labels.to(device)\n",
    "        outputs = model(images)\n",
    "        _, predicted = torch.max(outputs, 1)\n",
    "        total += labels.size(0)\n",
    "        correct += (predicted == labels).sum().item()\n",
    "\n",
    "print(f\"Accuracy on test set: {100 * correct / total:.2f}%\")"
   ]
  },
  {
   "cell_type": "code",
   "execution_count": 13,
   "id": "f5456f63",
   "metadata": {
    "execution": {
     "iopub.execute_input": "2024-12-05T12:26:37.274677Z",
     "iopub.status.busy": "2024-12-05T12:26:37.274402Z",
     "iopub.status.idle": "2024-12-05T12:26:37.285618Z",
     "shell.execute_reply": "2024-12-05T12:26:37.284861Z"
    },
    "papermill": {
     "duration": 0.018685,
     "end_time": "2024-12-05T12:26:37.287119",
     "exception": false,
     "start_time": "2024-12-05T12:26:37.268434",
     "status": "completed"
    },
    "tags": []
   },
   "outputs": [
    {
     "name": "stdout",
     "output_type": "stream",
     "text": [
      "Model saved to mnist_cnn.pth\n"
     ]
    }
   ],
   "source": [
    "# 6. 保存模型\n",
    "torch.save(model.state_dict(), \"mnist_cnn.pth\")\n",
    "print(\"Model saved to mnist_cnn.pth\")"
   ]
  },
  {
   "cell_type": "markdown",
   "id": "9a439666",
   "metadata": {
    "papermill": {
     "duration": 0.004953,
     "end_time": "2024-12-05T12:26:37.297143",
     "exception": false,
     "start_time": "2024-12-05T12:26:37.292190",
     "status": "completed"
    },
    "tags": []
   },
   "source": [
    "## Predict"
   ]
  },
  {
   "cell_type": "code",
   "execution_count": 14,
   "id": "1731003c",
   "metadata": {
    "execution": {
     "iopub.execute_input": "2024-12-05T12:26:37.308270Z",
     "iopub.status.busy": "2024-12-05T12:26:37.307985Z",
     "iopub.status.idle": "2024-12-05T12:26:37.311712Z",
     "shell.execute_reply": "2024-12-05T12:26:37.311012Z"
    },
    "papermill": {
     "duration": 0.01101,
     "end_time": "2024-12-05T12:26:37.313242",
     "exception": false,
     "start_time": "2024-12-05T12:26:37.302232",
     "status": "completed"
    },
    "tags": []
   },
   "outputs": [],
   "source": [
    "import torch\n",
    "from torchvision import transforms\n",
    "from PIL import Image, ImageOps  # 这里确保导入 Image 和 ImageOps\n",
    "import matplotlib.pyplot as plt\n",
    "import torch.nn as nn"
   ]
  },
  {
   "cell_type": "code",
   "execution_count": 15,
   "id": "74d07111",
   "metadata": {
    "execution": {
     "iopub.execute_input": "2024-12-05T12:26:37.324505Z",
     "iopub.status.busy": "2024-12-05T12:26:37.324266Z",
     "iopub.status.idle": "2024-12-05T12:26:37.330619Z",
     "shell.execute_reply": "2024-12-05T12:26:37.329831Z"
    },
    "papermill": {
     "duration": 0.013629,
     "end_time": "2024-12-05T12:26:37.332078",
     "exception": false,
     "start_time": "2024-12-05T12:26:37.318449",
     "status": "completed"
    },
    "tags": []
   },
   "outputs": [],
   "source": [
    "# 定义模型结构（与训练时一致）\n",
    "class CNN(nn.Module):\n",
    "    def __init__(self):\n",
    "        super(CNN, self).__init__()\n",
    "        self.conv1 = nn.Conv2d(1, 32, kernel_size=3, stride=1, padding=1)\n",
    "        self.conv2 = nn.Conv2d(32, 64, kernel_size=3, stride=1, padding=1)\n",
    "        self.conv3 = nn.Conv2d(64, 128, kernel_size=3, stride=1, padding=1)  # 新增一层\n",
    "        self.pool = nn.MaxPool2d(kernel_size=2, stride=2)\n",
    "        self.fc1 = nn.Linear(128 * 3 * 3, 256)  # 修改全连接层大小\n",
    "        self.fc2 = nn.Linear(256, 10)\n",
    "        self.dropout = nn.Dropout(0.5)  # Dropout 防止过拟合\n",
    "\n",
    "    def forward(self, x):\n",
    "        x = self.pool(torch.relu(self.conv1(x)))\n",
    "        x = self.pool(torch.relu(self.conv2(x)))\n",
    "        x = self.pool(torch.relu(self.conv3(x)))\n",
    "        x = x.view(-1, 128 * 3 * 3)\n",
    "        x = torch.relu(self.fc1(x))\n",
    "        x = self.dropout(x)\n",
    "        x = self.fc2(x)\n",
    "        return x"
   ]
  },
  {
   "cell_type": "code",
   "execution_count": 16,
   "id": "76166064",
   "metadata": {
    "execution": {
     "iopub.execute_input": "2024-12-05T12:26:37.342893Z",
     "iopub.status.busy": "2024-12-05T12:26:37.342681Z",
     "iopub.status.idle": "2024-12-05T12:26:37.358074Z",
     "shell.execute_reply": "2024-12-05T12:26:37.357189Z"
    },
    "papermill": {
     "duration": 0.02259,
     "end_time": "2024-12-05T12:26:37.359640",
     "exception": false,
     "start_time": "2024-12-05T12:26:37.337050",
     "status": "completed"
    },
    "tags": []
   },
   "outputs": [
    {
     "name": "stderr",
     "output_type": "stream",
     "text": [
      "/tmp/ipykernel_23/2667161290.py:4: FutureWarning: You are using `torch.load` with `weights_only=False` (the current default value), which uses the default pickle module implicitly. It is possible to construct malicious pickle data which will execute arbitrary code during unpickling (See https://github.com/pytorch/pytorch/blob/main/SECURITY.md#untrusted-models for more details). In a future release, the default value for `weights_only` will be flipped to `True`. This limits the functions that could be executed during unpickling. Arbitrary objects will no longer be allowed to be loaded via this mode unless they are explicitly allowlisted by the user via `torch.serialization.add_safe_globals`. We recommend you start setting `weights_only=True` for any use case where you don't have full control of the loaded file. Please open an issue on GitHub for any issues related to this experimental feature.\n",
      "  model.load_state_dict(torch.load(\"mnist_cnn.pth\", map_location=device))\n"
     ]
    },
    {
     "data": {
      "text/plain": [
       "CNN(\n",
       "  (conv1): Conv2d(1, 32, kernel_size=(3, 3), stride=(1, 1), padding=(1, 1))\n",
       "  (conv2): Conv2d(32, 64, kernel_size=(3, 3), stride=(1, 1), padding=(1, 1))\n",
       "  (conv3): Conv2d(64, 128, kernel_size=(3, 3), stride=(1, 1), padding=(1, 1))\n",
       "  (pool): MaxPool2d(kernel_size=2, stride=2, padding=0, dilation=1, ceil_mode=False)\n",
       "  (fc1): Linear(in_features=1152, out_features=256, bias=True)\n",
       "  (fc2): Linear(in_features=256, out_features=10, bias=True)\n",
       "  (dropout): Dropout(p=0.5, inplace=False)\n",
       ")"
      ]
     },
     "execution_count": 16,
     "metadata": {},
     "output_type": "execute_result"
    }
   ],
   "source": [
    "# 加载模型\n",
    "device = torch.device(\"cuda\" if torch.cuda.is_available() else \"cpu\")\n",
    "model = CNN().to(device)\n",
    "model.load_state_dict(torch.load(\"mnist_cnn.pth\", map_location=device))\n",
    "model.eval()"
   ]
  },
  {
   "cell_type": "code",
   "execution_count": 17,
   "id": "ae3a51da",
   "metadata": {
    "execution": {
     "iopub.execute_input": "2024-12-05T12:26:37.371203Z",
     "iopub.status.busy": "2024-12-05T12:26:37.370967Z",
     "iopub.status.idle": "2024-12-05T12:26:37.375502Z",
     "shell.execute_reply": "2024-12-05T12:26:37.374807Z"
    },
    "papermill": {
     "duration": 0.012019,
     "end_time": "2024-12-05T12:26:37.376949",
     "exception": false,
     "start_time": "2024-12-05T12:26:37.364930",
     "status": "completed"
    },
    "tags": []
   },
   "outputs": [],
   "source": [
    "# 改进的图片预处理函数\n",
    "def preprocess_image(image_path):\n",
    "    \"\"\"\n",
    "    预处理真实图片：\n",
    "    - 转换为灰度图\n",
    "    - 裁剪白边\n",
    "    - 调整大小到 28x28\n",
    "    - 归一化\n",
    "    \"\"\"\n",
    "    transform = transforms.Compose([\n",
    "        transforms.Grayscale(),  # 转为灰度图\n",
    "        transforms.Resize((28, 28)),  # 调整大小\n",
    "        transforms.ToTensor(),  # 转为张量\n",
    "        transforms.Normalize((0.5,), (0.5,))  # 归一化到 [-1, 1]\n",
    "    ])\n",
    "    \n",
    "    image = Image.open(image_path)  # 打开图片\n",
    "    image = ImageOps.invert(image.convert(\"L\"))  # 转为灰度图并反转黑白\n",
    "    image = ImageOps.autocontrast(image)  # 增强对比度\n",
    "    image = transform(image).unsqueeze(0)  # 添加 batch 维度\n",
    "    return image"
   ]
  },
  {
   "cell_type": "code",
   "execution_count": 18,
   "id": "92123532",
   "metadata": {
    "execution": {
     "iopub.execute_input": "2024-12-05T12:26:37.388408Z",
     "iopub.status.busy": "2024-12-05T12:26:37.388139Z",
     "iopub.status.idle": "2024-12-05T12:26:37.392227Z",
     "shell.execute_reply": "2024-12-05T12:26:37.391429Z"
    },
    "papermill": {
     "duration": 0.011461,
     "end_time": "2024-12-05T12:26:37.393877",
     "exception": false,
     "start_time": "2024-12-05T12:26:37.382416",
     "status": "completed"
    },
    "tags": []
   },
   "outputs": [],
   "source": [
    "# 预测函数\n",
    "def predict(image_path):\n",
    "    \"\"\"\n",
    "    - 对输入图片进行预处理。\n",
    "    - 使用模型进行预测。\n",
    "    - 返回预测结果（数字）。\n",
    "    \"\"\"\n",
    "    image = preprocess_image(image_path).to(device)\n",
    "    output = model(image)\n",
    "    _, predicted = torch.max(output, 1)  # 获取预测结果\n",
    "    return predicted.item()\n"
   ]
  },
  {
   "cell_type": "code",
   "execution_count": 19,
   "id": "0bf8f860",
   "metadata": {
    "execution": {
     "iopub.execute_input": "2024-12-05T12:26:37.405305Z",
     "iopub.status.busy": "2024-12-05T12:26:37.405036Z",
     "iopub.status.idle": "2024-12-05T12:26:37.408355Z",
     "shell.execute_reply": "2024-12-05T12:26:37.407567Z"
    },
    "papermill": {
     "duration": 0.010746,
     "end_time": "2024-12-05T12:26:37.409857",
     "exception": false,
     "start_time": "2024-12-05T12:26:37.399111",
     "status": "completed"
    },
    "tags": []
   },
   "outputs": [],
   "source": [
    "# 上传图片路径\n",
    "uploaded_image_path = \"/kaggle/input/digits/3.png\"  # 替换为你的图片路径"
   ]
  },
  {
   "cell_type": "code",
   "execution_count": 20,
   "id": "7129ca1e",
   "metadata": {
    "execution": {
     "iopub.execute_input": "2024-12-05T12:26:37.420902Z",
     "iopub.status.busy": "2024-12-05T12:26:37.420682Z",
     "iopub.status.idle": "2024-12-05T12:26:37.746414Z",
     "shell.execute_reply": "2024-12-05T12:26:37.745412Z"
    },
    "papermill": {
     "duration": 0.333457,
     "end_time": "2024-12-05T12:26:37.748466",
     "exception": false,
     "start_time": "2024-12-05T12:26:37.415009",
     "status": "completed"
    },
    "tags": []
   },
   "outputs": [
    {
     "data": {
      "image/png": "[encoded data removed]",
      "text/plain": [
       "<Figure size 640x480 with 1 Axes>"
      ]
     },
     "metadata": {},
     "output_type": "display_data"
    }
   ],
   "source": [
    "# 显示图片并预测\n",
    "plt.imshow(Image.open(uploaded_image_path), cmap='gray')\n",
    "plt.axis('off')\n",
    "predicted_digit = predict(uploaded_image_path)\n",
    "plt.title(f\"Predicted Digit: {predicted_digit}\")\n",
    "plt.show()"
   ]
  }
 ],
 "metadata": {
  "kaggle": {
   "accelerator": "nvidiaTeslaT4",
   "dataSources": [
    {
     "datasetId": 5785781,
     "sourceId": 9506455,
     "sourceType": "datasetVersion"
    }
   ],
   "dockerImageVersionId": 30805,
   "isGpuEnabled": true,
   "isInternetEnabled": true,
   "language": "python",
   "sourceType": "notebook"
  },
  "kernelspec": {
   "display_name": "Python 3",
   "language": "python",
   "name": "python3"
  },
  "language_info": {
   "codemirror_mode": {
    "name": "ipython",
    "version": 3
   },
   "file_extension": ".py",
   "mimetype": "text/x-python",
   "name": "python",
   "nbconvert_exporter": "python",
   "pygments_lexer": "ipython3",
   "version": "3.10.14"
  },
  "papermill": {
   "default_parameters": {},
   "duration": 222.087373,
   "end_time": "2024-12-05T12:26:39.577741",
   "environment_variables": {},
   "exception": null,
   "input_path": "__notebook__.ipynb",
   "output_path": "__notebook__.ipynb",
   "parameters": {},
   "start_time": "2024-12-05T12:22:57.490368",
   "version": "2.6.0"
  }
 },
 "nbformat": 4,
 "nbformat_minor": 5
}
